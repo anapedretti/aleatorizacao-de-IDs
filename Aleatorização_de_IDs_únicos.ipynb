{
  "nbformat": 4,
  "nbformat_minor": 0,
  "metadata": {
    "colab": {
      "name": "Aleatorização de IDs únicos.ipynb",
      "provenance": [],
      "include_colab_link": true
    },
    "kernelspec": {
      "name": "python3",
      "display_name": "Python 3"
    }
  },
  "cells": [
    {
      "cell_type": "markdown",
      "metadata": {
        "id": "view-in-github",
        "colab_type": "text"
      },
      "source": [
        "<a href=\"https://colab.research.google.com/github/anapedretti/aleatorizacao-de-IDs/blob/main/Aleatoriza%C3%A7%C3%A3o_de_IDs_%C3%BAnicos.ipynb\" target=\"_parent\"><img src=\"https://colab.research.google.com/assets/colab-badge.svg\" alt=\"Open In Colab\"/></a>"
      ]
    },
    {
      "cell_type": "markdown",
      "metadata": {
        "id": "Zk8OL3GiPKQM"
      },
      "source": [
        "Para começar, faça o upload de um arquivo chamado \"**base.csv**\" (clique no ícone de \"pasta\" no menu lateral esquerdo e arraste o arquivo). Este arquivo deve conter apenas uma coluna com os IDs a serem aleatorizados.\n",
        "***É importante que não haja IDs duplicados no arquivo.***"
      ]
    },
    {
      "cell_type": "code",
      "metadata": {
        "id": "3OW-FRfEPZ1D",
        "colab": {
          "base_uri": "https://localhost:8080/"
        },
        "outputId": "f2b92108-8f6c-4df0-8bc5-dc202ad0db83"
      },
      "source": [
        "#@title Digite a proporção de IDs que irão compor o grupo controle (número decimal separado por ponto. Ex: 30% = 0.3)\n",
        "\n",
        "share = 0.2 #@param {type:\"number\"}\n",
        "\n",
        "import pandas as pd\n",
        "import math\n",
        "from pandas import DataFrame\n",
        "from random import sample\n",
        "\n",
        "df = pd.read_csv('base.csv')\n",
        "#print(df)\n",
        "\n",
        "df.sort_values('advertising_id', inplace = True)\n",
        "#df.drop_duplicates(subset = 'advertising_id', keep = False, inplace = True)\n",
        "\n",
        "index0 = df.index\n",
        "linhas = len(index0)\n",
        "print('Número de linhas do arquivo base.csv')\n",
        "print(linhas)\n",
        "lista_ids = df.values.tolist()\n",
        "#print(lista_ids)\n",
        "\n",
        "linhas_controle = linhas * share\n",
        "#print(linhas_controle)\n",
        "\n",
        "controle = math.ceil(linhas_controle)\n",
        "#print(controle)\n",
        "\n",
        "ids_controle = sorted(sample(lista_ids,controle))\n",
        "df_controle = DataFrame(ids_controle, columns=['ID'])\n",
        "index1 = df_controle.index\n",
        "linhas1 = len(index1)\n",
        "#print(df_controle)\n",
        "print('Número de linhas da base controle.csv')\n",
        "print(linhas1)\n",
        "\n",
        "#df.drop(df['advertising_id'].isin(df_controle['ID']).index, inplace = True)\n",
        "\n",
        "df = df[~df.advertising_id.isin(df_controle.ID)]\n",
        "\n",
        "index2 = df.index\n",
        "linhas2 = len(index2)\n",
        "print('Número de linhas da base teste.csv')\n",
        "print(linhas2)\n",
        "\n",
        "#print('Dados na base teste')\n",
        "#print(df)\n",
        "\n",
        "df.to_csv('base_teste.csv', index = False)\n",
        "df_controle.to_csv('base_controle.csv', index = False)"
      ],
      "execution_count": null,
      "outputs": [
        {
          "output_type": "stream",
          "text": [
            "Número de linhas do arquivo base.csv\n",
            "3170532\n",
            "Número de linhas da base controle.csv\n",
            "634107\n",
            "Número de linhas da base teste.csv\n",
            "2536425\n"
          ],
          "name": "stdout"
        }
      ]
    }
  ]
}